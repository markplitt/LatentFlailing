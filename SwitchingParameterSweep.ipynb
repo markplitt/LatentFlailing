{
 "cells": [
  {
   "cell_type": "code",
   "execution_count": 2,
   "metadata": {},
   "outputs": [
    {
     "name": "stderr",
     "output_type": "stream",
     "text": [
      "C:\\Users\\mplitt\\Anaconda3\\lib\\site-packages\\h5py\\__init__.py:36: FutureWarning: Conversion of the second argument of issubdtype from `float` to `np.floating` is deprecated. In future, it will be treated as `np.float64 == np.dtype(float).type`.\n",
      "  from ._conv import register_converters as _register_converters\n"
     ]
    }
   ],
   "source": [
    "import os\n",
    "os.sys.path.append(\"C:\\\\Users\\mplitt\\MightyMorphingPhotonRangers\")\n",
    "import utilities as u\n",
    "import single_session_plots as ssp\n",
    "import numpy as np\n",
    "import scipy as sp\n",
    "import sklearn as sk\n",
    "from matplotlib import pyplot as plt\n",
    "from LatentVarFuncs import *\n",
    "import pickle\n",
    "import scipy as sp\n",
    "%matplotlib inline\n",
    "\n",
    "%load_ext autoreload\n",
    "%autoreload 2"
   ]
  },
  {
   "cell_type": "code",
   "execution_count": 3,
   "metadata": {},
   "outputs": [
    {
     "data": {
      "text/html": [
       "<div>\n",
       "<style scoped>\n",
       "    .dataframe tbody tr th:only-of-type {\n",
       "        vertical-align: middle;\n",
       "    }\n",
       "\n",
       "    .dataframe tbody tr th {\n",
       "        vertical-align: top;\n",
       "    }\n",
       "\n",
       "    .dataframe thead th {\n",
       "        text-align: right;\n",
       "    }\n",
       "</style>\n",
       "<table border=\"1\" class=\"dataframe\">\n",
       "  <thead>\n",
       "    <tr style=\"text-align: right;\">\n",
       "      <th></th>\n",
       "      <th>MouseName</th>\n",
       "      <th>DateFolder</th>\n",
       "      <th>SessionNumber</th>\n",
       "      <th>Track</th>\n",
       "      <th>RewardCount</th>\n",
       "      <th>Imaging</th>\n",
       "      <th>DateTime</th>\n",
       "      <th>data file</th>\n",
       "      <th>scanfile</th>\n",
       "      <th>scanmat</th>\n",
       "    </tr>\n",
       "  </thead>\n",
       "  <tbody>\n",
       "    <tr>\n",
       "      <th>150</th>\n",
       "      <td>4139190.1</td>\n",
       "      <td>16_06_2018</td>\n",
       "      <td>2</td>\n",
       "      <td>TwoTower_Timeout</td>\n",
       "      <td>19</td>\n",
       "      <td>1</td>\n",
       "      <td>2018-06-16</td>\n",
       "      <td>G:\\My Drive\\\\VR_Data\\TwoTower\\4139190.1\\16_06_...</td>\n",
       "      <td>G:\\My Drive\\2P_Data\\TwoTower\\4139190.1\\16_06_2...</td>\n",
       "      <td>G:\\My Drive\\2P_Data\\TwoTower\\4139190.1\\16_06_2...</td>\n",
       "    </tr>\n",
       "    <tr>\n",
       "      <th>210</th>\n",
       "      <td>4139190.1</td>\n",
       "      <td>19_06_2018</td>\n",
       "      <td>2</td>\n",
       "      <td>TwoTower_Timeout</td>\n",
       "      <td>75</td>\n",
       "      <td>1</td>\n",
       "      <td>2018-06-19</td>\n",
       "      <td>G:\\My Drive\\\\VR_Data\\TwoTower\\4139190.1\\19_06_...</td>\n",
       "      <td>G:\\My Drive\\2P_Data\\TwoTower\\4139190.1\\19_06_2...</td>\n",
       "      <td>G:\\My Drive\\2P_Data\\TwoTower\\4139190.1\\19_06_2...</td>\n",
       "    </tr>\n",
       "    <tr>\n",
       "      <th>175</th>\n",
       "      <td>4139190.1</td>\n",
       "      <td>21_06_2018</td>\n",
       "      <td>3</td>\n",
       "      <td>TwoTower_Timeout</td>\n",
       "      <td>92</td>\n",
       "      <td>1</td>\n",
       "      <td>2018-06-21</td>\n",
       "      <td>G:\\My Drive\\\\VR_Data\\TwoTower\\4139190.1\\21_06_...</td>\n",
       "      <td>G:\\My Drive\\2P_Data\\TwoTower\\4139190.1\\21_06_2...</td>\n",
       "      <td>G:\\My Drive\\2P_Data\\TwoTower\\4139190.1\\21_06_2...</td>\n",
       "    </tr>\n",
       "    <tr>\n",
       "      <th>177</th>\n",
       "      <td>4139190.1</td>\n",
       "      <td>21_06_2018</td>\n",
       "      <td>2</td>\n",
       "      <td>TwoTower_Timeout</td>\n",
       "      <td>20</td>\n",
       "      <td>1</td>\n",
       "      <td>2018-06-21</td>\n",
       "      <td>G:\\My Drive\\\\VR_Data\\TwoTower\\4139190.1\\21_06_...</td>\n",
       "      <td>G:\\My Drive\\2P_Data\\TwoTower\\4139190.1\\21_06_2...</td>\n",
       "      <td>G:\\My Drive\\2P_Data\\TwoTower\\4139190.1\\21_06_2...</td>\n",
       "    </tr>\n",
       "    <tr>\n",
       "      <th>169</th>\n",
       "      <td>4139190.1</td>\n",
       "      <td>24_06_2018</td>\n",
       "      <td>2</td>\n",
       "      <td>TwoTower_Timeout</td>\n",
       "      <td>104</td>\n",
       "      <td>1</td>\n",
       "      <td>2018-06-24</td>\n",
       "      <td>G:\\My Drive\\\\VR_Data\\TwoTower\\4139190.1\\24_06_...</td>\n",
       "      <td>G:\\My Drive\\2P_Data\\TwoTower\\4139190.1\\24_06_2...</td>\n",
       "      <td>G:\\My Drive\\2P_Data\\TwoTower\\4139190.1\\24_06_2...</td>\n",
       "    </tr>\n",
       "    <tr>\n",
       "      <th>173</th>\n",
       "      <td>4139190.1</td>\n",
       "      <td>25_06_2018</td>\n",
       "      <td>2</td>\n",
       "      <td>TwoTower_Timeout</td>\n",
       "      <td>62</td>\n",
       "      <td>1</td>\n",
       "      <td>2018-06-25</td>\n",
       "      <td>G:\\My Drive\\\\VR_Data\\TwoTower\\4139190.1\\25_06_...</td>\n",
       "      <td>G:\\My Drive\\2P_Data\\TwoTower\\4139190.1\\25_06_2...</td>\n",
       "      <td>G:\\My Drive\\2P_Data\\TwoTower\\4139190.1\\25_06_2...</td>\n",
       "    </tr>\n",
       "    <tr>\n",
       "      <th>205</th>\n",
       "      <td>4139190.1</td>\n",
       "      <td>27_06_2018</td>\n",
       "      <td>2</td>\n",
       "      <td>TwoTower_Timeout</td>\n",
       "      <td>81</td>\n",
       "      <td>1</td>\n",
       "      <td>2018-06-27</td>\n",
       "      <td>G:\\My Drive\\\\VR_Data\\TwoTower\\4139190.1\\27_06_...</td>\n",
       "      <td>G:\\My Drive\\2P_Data\\TwoTower\\4139190.1\\27_06_2...</td>\n",
       "      <td>G:\\My Drive\\2P_Data\\TwoTower\\4139190.1\\27_06_2...</td>\n",
       "    </tr>\n",
       "    <tr>\n",
       "      <th>160</th>\n",
       "      <td>4139190.1</td>\n",
       "      <td>28_06_2018</td>\n",
       "      <td>8</td>\n",
       "      <td>TwoTower_Timeout</td>\n",
       "      <td>22</td>\n",
       "      <td>1</td>\n",
       "      <td>2018-06-28</td>\n",
       "      <td>G:\\My Drive\\\\VR_Data\\TwoTower\\4139190.1\\28_06_...</td>\n",
       "      <td>G:\\My Drive\\2P_Data\\TwoTower\\4139190.1\\28_06_2...</td>\n",
       "      <td>G:\\My Drive\\2P_Data\\TwoTower\\4139190.1\\28_06_2...</td>\n",
       "    </tr>\n",
       "    <tr>\n",
       "      <th>164</th>\n",
       "      <td>4139190.1</td>\n",
       "      <td>28_06_2018</td>\n",
       "      <td>2</td>\n",
       "      <td>TwoTower_Timeout</td>\n",
       "      <td>17</td>\n",
       "      <td>1</td>\n",
       "      <td>2018-06-28</td>\n",
       "      <td>G:\\My Drive\\\\VR_Data\\TwoTower\\4139190.1\\28_06_...</td>\n",
       "      <td>G:\\My Drive\\2P_Data\\TwoTower\\4139190.1\\28_06_2...</td>\n",
       "      <td>G:\\My Drive\\2P_Data\\TwoTower\\4139190.1\\28_06_2...</td>\n",
       "    </tr>\n",
       "    <tr>\n",
       "      <th>165</th>\n",
       "      <td>4139190.1</td>\n",
       "      <td>28_06_2018</td>\n",
       "      <td>9</td>\n",
       "      <td>TwoTower_Timeout</td>\n",
       "      <td>18</td>\n",
       "      <td>1</td>\n",
       "      <td>2018-06-28</td>\n",
       "      <td>G:\\My Drive\\\\VR_Data\\TwoTower\\4139190.1\\28_06_...</td>\n",
       "      <td>G:\\My Drive\\2P_Data\\TwoTower\\4139190.1\\28_06_2...</td>\n",
       "      <td>G:\\My Drive\\2P_Data\\TwoTower\\4139190.1\\28_06_2...</td>\n",
       "    </tr>\n",
       "    <tr>\n",
       "      <th>4</th>\n",
       "      <td>4139190.1</td>\n",
       "      <td>11_07_2018</td>\n",
       "      <td>17</td>\n",
       "      <td>TwoTower_Timeout</td>\n",
       "      <td>58</td>\n",
       "      <td>1</td>\n",
       "      <td>2018-07-11</td>\n",
       "      <td>G:\\My Drive\\\\VR_Data\\TwoTower\\4139190.1\\11_07_...</td>\n",
       "      <td>G:\\My Drive\\2P_Data\\TwoTower\\4139190.1\\11_07_2...</td>\n",
       "      <td>G:\\My Drive\\2P_Data\\TwoTower\\4139190.1\\11_07_2...</td>\n",
       "    </tr>\n",
       "    <tr>\n",
       "      <th>225</th>\n",
       "      <td>4139190.1</td>\n",
       "      <td>11_07_2018</td>\n",
       "      <td>17</td>\n",
       "      <td>TwoTower_Timeout</td>\n",
       "      <td>58</td>\n",
       "      <td>1</td>\n",
       "      <td>2018-07-11</td>\n",
       "      <td>G:\\My Drive\\\\VR_Data\\TwoTower\\4139190.1\\11_07_...</td>\n",
       "      <td>G:\\My Drive\\2P_Data\\TwoTower\\4139190.1\\11_07_2...</td>\n",
       "      <td>G:\\My Drive\\2P_Data\\TwoTower\\4139190.1\\11_07_2...</td>\n",
       "    </tr>\n",
       "  </tbody>\n",
       "</table>\n",
       "</div>"
      ],
      "text/plain": [
       "     MouseName  DateFolder  SessionNumber             Track  RewardCount  \\\n",
       "150  4139190.1  16_06_2018              2  TwoTower_Timeout           19   \n",
       "210  4139190.1  19_06_2018              2  TwoTower_Timeout           75   \n",
       "175  4139190.1  21_06_2018              3  TwoTower_Timeout           92   \n",
       "177  4139190.1  21_06_2018              2  TwoTower_Timeout           20   \n",
       "169  4139190.1  24_06_2018              2  TwoTower_Timeout          104   \n",
       "173  4139190.1  25_06_2018              2  TwoTower_Timeout           62   \n",
       "205  4139190.1  27_06_2018              2  TwoTower_Timeout           81   \n",
       "160  4139190.1  28_06_2018              8  TwoTower_Timeout           22   \n",
       "164  4139190.1  28_06_2018              2  TwoTower_Timeout           17   \n",
       "165  4139190.1  28_06_2018              9  TwoTower_Timeout           18   \n",
       "4    4139190.1  11_07_2018             17  TwoTower_Timeout           58   \n",
       "225  4139190.1  11_07_2018             17  TwoTower_Timeout           58   \n",
       "\n",
       "     Imaging   DateTime                                          data file  \\\n",
       "150        1 2018-06-16  G:\\My Drive\\\\VR_Data\\TwoTower\\4139190.1\\16_06_...   \n",
       "210        1 2018-06-19  G:\\My Drive\\\\VR_Data\\TwoTower\\4139190.1\\19_06_...   \n",
       "175        1 2018-06-21  G:\\My Drive\\\\VR_Data\\TwoTower\\4139190.1\\21_06_...   \n",
       "177        1 2018-06-21  G:\\My Drive\\\\VR_Data\\TwoTower\\4139190.1\\21_06_...   \n",
       "169        1 2018-06-24  G:\\My Drive\\\\VR_Data\\TwoTower\\4139190.1\\24_06_...   \n",
       "173        1 2018-06-25  G:\\My Drive\\\\VR_Data\\TwoTower\\4139190.1\\25_06_...   \n",
       "205        1 2018-06-27  G:\\My Drive\\\\VR_Data\\TwoTower\\4139190.1\\27_06_...   \n",
       "160        1 2018-06-28  G:\\My Drive\\\\VR_Data\\TwoTower\\4139190.1\\28_06_...   \n",
       "164        1 2018-06-28  G:\\My Drive\\\\VR_Data\\TwoTower\\4139190.1\\28_06_...   \n",
       "165        1 2018-06-28  G:\\My Drive\\\\VR_Data\\TwoTower\\4139190.1\\28_06_...   \n",
       "4          1 2018-07-11  G:\\My Drive\\\\VR_Data\\TwoTower\\4139190.1\\11_07_...   \n",
       "225        1 2018-07-11  G:\\My Drive\\\\VR_Data\\TwoTower\\4139190.1\\11_07_...   \n",
       "\n",
       "                                              scanfile  \\\n",
       "150  G:\\My Drive\\2P_Data\\TwoTower\\4139190.1\\16_06_2...   \n",
       "210  G:\\My Drive\\2P_Data\\TwoTower\\4139190.1\\19_06_2...   \n",
       "175  G:\\My Drive\\2P_Data\\TwoTower\\4139190.1\\21_06_2...   \n",
       "177  G:\\My Drive\\2P_Data\\TwoTower\\4139190.1\\21_06_2...   \n",
       "169  G:\\My Drive\\2P_Data\\TwoTower\\4139190.1\\24_06_2...   \n",
       "173  G:\\My Drive\\2P_Data\\TwoTower\\4139190.1\\25_06_2...   \n",
       "205  G:\\My Drive\\2P_Data\\TwoTower\\4139190.1\\27_06_2...   \n",
       "160  G:\\My Drive\\2P_Data\\TwoTower\\4139190.1\\28_06_2...   \n",
       "164  G:\\My Drive\\2P_Data\\TwoTower\\4139190.1\\28_06_2...   \n",
       "165  G:\\My Drive\\2P_Data\\TwoTower\\4139190.1\\28_06_2...   \n",
       "4    G:\\My Drive\\2P_Data\\TwoTower\\4139190.1\\11_07_2...   \n",
       "225  G:\\My Drive\\2P_Data\\TwoTower\\4139190.1\\11_07_2...   \n",
       "\n",
       "                                               scanmat  \n",
       "150  G:\\My Drive\\2P_Data\\TwoTower\\4139190.1\\16_06_2...  \n",
       "210  G:\\My Drive\\2P_Data\\TwoTower\\4139190.1\\19_06_2...  \n",
       "175  G:\\My Drive\\2P_Data\\TwoTower\\4139190.1\\21_06_2...  \n",
       "177  G:\\My Drive\\2P_Data\\TwoTower\\4139190.1\\21_06_2...  \n",
       "169  G:\\My Drive\\2P_Data\\TwoTower\\4139190.1\\24_06_2...  \n",
       "173  G:\\My Drive\\2P_Data\\TwoTower\\4139190.1\\25_06_2...  \n",
       "205  G:\\My Drive\\2P_Data\\TwoTower\\4139190.1\\27_06_2...  \n",
       "160  G:\\My Drive\\2P_Data\\TwoTower\\4139190.1\\28_06_2...  \n",
       "164  G:\\My Drive\\2P_Data\\TwoTower\\4139190.1\\28_06_2...  \n",
       "165  G:\\My Drive\\2P_Data\\TwoTower\\4139190.1\\28_06_2...  \n",
       "4    G:\\My Drive\\2P_Data\\TwoTower\\4139190.1\\11_07_2...  \n",
       "225  G:\\My Drive\\2P_Data\\TwoTower\\4139190.1\\11_07_2...  "
      ]
     },
     "execution_count": 3,
     "metadata": {},
     "output_type": "execute_result"
    }
   ],
   "source": [
    "# import behavioral sessions\n",
    "mouse = '4139190.1'\n",
    "df = u.load_session_db()\n",
    "#ca1mice = ['4139190.1','4139190.3', '4054011.1','4139202.2']\n",
    "#dgmice = ['4054010.4','4054010.5']\n",
    "\n",
    "\n",
    "df = df[df['RewardCount']>10]\n",
    "df = df[df['Imaging']==1]\n",
    "df = df.sort_values(['MouseName','DateTime'])\n",
    "\n",
    "df_mouse = df[df['MouseName'].str.match(mouse)]\n",
    "df_mouse = df_mouse[df_mouse['Track'].str.match('TwoTower_Timeout')]\n",
    "df_mouse = df_mouse.sort_values(['DateTime'])\n",
    "df_mouse"
   ]
  },
  {
   "cell_type": "code",
   "execution_count": 4,
   "metadata": {},
   "outputs": [
    {
     "data": {
      "text/plain": [
       "MouseName                                                4139190.1\n",
       "DateFolder                                              24_06_2018\n",
       "SessionNumber                                                    2\n",
       "Track                                             TwoTower_Timeout\n",
       "RewardCount                                                    104\n",
       "Imaging                                                          1\n",
       "DateTime                                       2018-06-24 00:00:00\n",
       "data file        G:\\My Drive\\\\VR_Data\\TwoTower\\4139190.1\\24_06_...\n",
       "scanfile         G:\\My Drive\\2P_Data\\TwoTower\\4139190.1\\24_06_2...\n",
       "scanmat          G:\\My Drive\\2P_Data\\TwoTower\\4139190.1\\24_06_2...\n",
       "Name: 169, dtype: object"
      ]
     },
     "execution_count": 4,
     "metadata": {},
     "output_type": "execute_result"
    }
   ],
   "source": [
    "# pick candidate session\n",
    "sess = df_mouse.iloc[4]\n",
    "sess"
   ]
  },
  {
   "cell_type": "code",
   "execution_count": 5,
   "metadata": {},
   "outputs": [
    {
     "name": "stdout",
     "output_type": "stream",
     "text": [
      "G:\\My Drive\\2P_Data\\TwoTower\\4139190.1\\24_06_2018\\TwoTower_Timeout\\TwoTower_Timeout_2_000.mat\n"
     ]
    },
    {
     "name": "stderr",
     "output_type": "stream",
     "text": [
      "C:\\Users\\mplitt\\MightyMorphingPhotonRangers\\utilities.py:276: SettingWithCopyWarning: \n",
      "A value is trying to be set on a copy of a slice from a DataFrame.\n",
      "Try using .loc[row_indexer,col_indexer] = value instead\n",
      "\n",
      "See the caveats in the documentation: http://pandas.pydata.org/pandas-docs/stable/indexing.html#indexing-view-versus-copy\n",
      "  frame['ca inds'] = caInds\n",
      "C:\\Users\\mplitt\\Anaconda3\\lib\\site-packages\\pandas\\core\\frame.py:3035: SettingWithCopyWarning: \n",
      "A value is trying to be set on a copy of a slice from a DataFrame\n",
      "\n",
      "See the caveats in the documentation: http://pandas.pydata.org/pandas-docs/stable/indexing.html#indexing-view-versus-copy\n",
      "  downcast=downcast, **kwargs)\n"
     ]
    },
    {
     "name": "stdout",
     "output_type": "stream",
     "text": [
      "G:\\My Drive\\2P_Data\\TwoTower\\4139190.1\\24_06_2018\\TwoTower_Timeout\\TwoTower_Timeout_2_000.mat\n",
      "#subsystem#not made into numpy array\n"
     ]
    }
   ],
   "source": [
    "behav = u.behavior_dataframe(sess['data file'],sess['scanmat'],concat=False)\n",
    "info = u.loadmat_sbx(sess['scanmat'])['info']\n",
    "ca_dat = u.load_ca_mat(sess['scanfile'])\n",
    "C = ca_dat['C_keep'][info['frame'][0]:info['frame'][-1]+1]\n",
    "\n",
    "frame_diff = behav.shape[0]-C.shape[0]\n",
    "if frame_diff>0:\n",
    "    behav = behav.iloc[:-frame_diff]\n",
    "    \n",
    "C_z = sp.stats.zscore(C,axis=0)"
   ]
  },
  {
   "cell_type": "code",
   "execution_count": 6,
   "metadata": {},
   "outputs": [
    {
     "name": "stderr",
     "output_type": "stream",
     "text": [
      "C:\\Users\\mplitt\\MightyMorphingPhotonRangers\\utilities.py:479: RuntimeWarning: Mean of empty slice\n",
      "  zone1_speed[i] = np.nanmean(sub_frame.loc[zone1_mask,'speed'])\n"
     ]
    }
   ],
   "source": [
    "#  set up encoding models\n",
    "dmat = pos_morph_design_matrix(behav['pos']._values,behav['morph']._values)\n",
    "train_inds = ((behav['morph']==1) | (behav['morph']==0)) & (behav['pos']>0)\n",
    "dmat_extreme = dmat[train_inds,:]\n",
    "C_extreme = C_z[train_inds,:]\n",
    "\n",
    "glm_base = sk.linear_model.LinearRegression()\n",
    "\n",
    "# for cells in session\n",
    "glm_base.fit(dmat_extreme,C_extreme)\n",
    "mu_extreme_hat = glm_base.predict(dmat_extreme)\n",
    "\n",
    "\n",
    "# restrict analysis to cells for which the encoding model was reasonable\n",
    "r2 = []\n",
    "for cell in range(C_z.shape[1]):\n",
    "    glm_tmp = sk.linear_model.LinearRegression()\n",
    "    glm_tmp.fit(dmat_extreme,C_extreme[:,cell])\n",
    "    mu_extreme_hat = glm_tmp.predict(dmat_extreme)\n",
    "    r2.append(glm_tmp.score(dmat_extreme,C_extreme[:,cell]))\n",
    "r2 = np.array(r2)\n",
    "r2mask = r2>.05 # arbitrary based on histogram of r2 values\n",
    "glm_final = sk.linear_model.LinearRegression()\n",
    "glm_final.fit(dmat_extreme,C_extreme[:,r2mask])\n",
    "\n",
    "# find position transition probabilities\n",
    "morph0inds = behav['morph']==0\n",
    "XX_I0, xbins = transition_prob_matrix(behav['pos']._values[morph0inds],binsize=5)\n",
    "\n",
    "morph1inds = behav['morph']==1\n",
    "XX_I1, xbins = transition_prob_matrix(behav['pos']._values[morph1inds],binsize=5)\n",
    "xbins = np.array(xbins)\n",
    "\n",
    "pos_binned = np.digitize(behav['pos']._values,xbins,right=True)\n",
    "\n",
    "\n",
    "\n",
    "# get trial by trial info\n",
    "tstarts,tstops = np.where(behav['tstart']==1)[0],np.where(behav['teleport']==1)[0]\n",
    "trial_pos, trial_C_z  = [], []\n",
    "for (start,stop) in zip(tstarts,tstops):\n",
    "    trial_pos.append(behav['pos']._values[start:stop])\n",
    "    trial_C_z.append(C_z[start:stop,r2mask]) # restrict to well fit cells\n",
    "d = u.by_trial_info(behav)\n",
    "\n",
    "# get data for estimating all likelihoods\n",
    "mu_i0 = glm_final.predict(pos_morph_design_matrix(xbins,np.zeros([xbins.shape[0],])))\n",
    "mu_i1 = glm_final.predict(pos_morph_design_matrix(xbins,np.ones([xbins.shape[0],])))\n",
    "\n"
   ]
  },
  {
   "cell_type": "code",
   "execution_count": 8,
   "metadata": {},
   "outputs": [
    {
     "data": {
      "text/plain": [
       "[<matplotlib.lines.Line2D at 0x2ae4acf8400>]"
      ]
     },
     "execution_count": 8,
     "metadata": {},
     "output_type": "execute_result"
    },
    {
     "data": {
      "image/png": "[encoded data removed]",
      "text/plain": [
       "<matplotlib.figure.Figure at 0x2ae4acf8550>"
      ]
     },
     "metadata": {},
     "output_type": "display_data"
    }
   ],
   "source": [
    "f,ax = plt.subplots()\n",
    "ax.plot(mu_i1[:,430])"
   ]
  },
  {
   "cell_type": "code",
   "execution_count": 60,
   "metadata": {},
   "outputs": [
    {
     "name": "stdout",
     "output_type": "stream",
     "text": [
      "0.5 0.5\n"
     ]
    },
    {
     "name": "stderr",
     "output_type": "stream",
     "text": [
      "C:\\Users\\mplitt\\Anaconda3\\lib\\site-packages\\ipykernel_launcher.py:38: RuntimeWarning: divide by zero encountered in log\n"
     ]
    },
    {
     "name": "stdout",
     "output_type": "stream",
     "text": [
      "0.5 0.625\n",
      "0.5 0.75\n",
      "0.5 0.875\n",
      "0.5 1.0\n",
      "0.625 0.5\n",
      "0.625 0.625\n",
      "0.625 0.75\n",
      "0.625 0.875\n",
      "0.625 1.0\n",
      "0.75 0.5\n",
      "0.75 0.625\n",
      "0.75 0.75\n",
      "0.75 0.875\n",
      "0.75 1.0\n",
      "0.875 0.5\n",
      "0.875 0.625\n",
      "0.875 0.75\n",
      "0.875 0.875\n",
      "0.875 1.0\n",
      "1.0 0.5\n",
      "1.0 0.625\n",
      "1.0 0.75\n",
      "1.0 0.875\n",
      "1.0 1.0\n"
     ]
    }
   ],
   "source": [
    "# loop through alpha and beta\n",
    "alpha = np.linspace(.5,1,5)\n",
    "beta = np.linspace(.5,1,5)\n",
    "\n",
    "\n",
    "for a in alpha.tolist():\n",
    "    for b in beta.tolist():\n",
    "        print(a,b)\n",
    "        # do decoding for single cells and population\n",
    "       # decod_dict = decoding_model(trial_C_z,XX_I0,XX_I1,mu_i0,mu_i1,a,b,d['morphs'])\n",
    "       # for key in decod_dict.keys():\n",
    "       #     fname = \"G:\\\\My Drive\\\\MCN\\\\project\\\\ParamSweep\\\\%s_alpha%f_beta%f.p\" % (key, a,b)\n",
    "       #     with open(fname,\"wb\") as f:\n",
    "       #         pickle.dump({'val':decod_dict[key]},f)\n",
    "            \n",
    "        \n",
    "        # calculate likelihoods from single cells\n",
    "        #if a == .5 and b ==.5:\n",
    "        II = np.array([[a, 1-a],[1-b,b]]) # morph transition probability\n",
    "        LL = {}\n",
    "        for cell in range(trial_C_z[0].shape[1]):\n",
    "            # for each trial\n",
    "            LL[cell]=[]\n",
    "            for trial,CZ in enumerate(trial_C_z):\n",
    "                # get activity and expected mean\n",
    "                cz = CZ[:,cell]\n",
    "                C0 = np.matlib.repmat(cz[np.newaxis].T,1,mu_i0.shape[0]).T\n",
    "                MUI0 = np.matlib.repmat(mu_i0[:,cell][np.newaxis].T,1,cz.shape[0])\n",
    "\n",
    "                C1 = np.matlib.repmat(cz[np.newaxis].T,1,mu_i1.shape[0]).T\n",
    "                MUI1 = np.matlib.repmat(mu_i0[:,cell][np.newaxis].T,1,cz.shape[0])\n",
    "\n",
    "                # get likelihood at each data point for any given position and context(NxT)\n",
    "                L_I0 = gaussian_pdf(C0,MUI0,1)\n",
    "                L_I1 = gaussian_pdf(C1,MUI1,1)\n",
    "\n",
    "                # log likelihood of observing data given parameters\n",
    "                LLY = np.log(forward_procedure_single_cell(XX_I0,XX_I1,L_I0,L_I1,II))\n",
    "                if np.isinf(LLY):\n",
    "                    LLY = -1e10\n",
    "                LL[cell].append(LLY)\n",
    "\n",
    "\n",
    "\n",
    "            # save results\n",
    "            fname = \"G:\\\\My Drive\\\\MCN\\\\project\\\\ParamSweep\\\\LL_alpha%f_beta%f.p\" % (a,b)\n",
    "            #results = {'decode':decod_dict,'LogLikelihood':LL}\n",
    "            with open(fname,'wb') as f:\n",
    "                pickle.dump(LL,f)\n",
    "\n",
    "\n",
    "        \n",
    "            \n",
    "        \n",
    "        "
   ]
  },
  {
   "cell_type": "code",
   "execution_count": 55,
   "metadata": {},
   "outputs": [
    {
     "ename": "MemoryError",
     "evalue": "",
     "output_type": "error",
     "traceback": [
      "\u001b[1;31m---------------------------------------------------------------------------\u001b[0m",
      "\u001b[1;31mMemoryError\u001b[0m                               Traceback (most recent call last)",
      "\u001b[1;32m<ipython-input-55-303ad925a760>\u001b[0m in \u001b[0;36m<module>\u001b[1;34m()\u001b[0m\n\u001b[1;32m----> 1\u001b[1;33m \u001b[0mnp\u001b[0m\u001b[1;33m.\u001b[0m\u001b[0msave\u001b[0m\u001b[1;33m(\u001b[0m\u001b[0mfname\u001b[0m\u001b[1;33m,\u001b[0m\u001b[0mdecod_dict\u001b[0m\u001b[1;33m[\u001b[0m\u001b[0mkey\u001b[0m\u001b[1;33m]\u001b[0m\u001b[1;33m)\u001b[0m\u001b[1;33m\u001b[0m\u001b[0m\n\u001b[0m",
      "\u001b[1;32m~\\Anaconda3\\lib\\site-packages\\numpy\\lib\\npyio.py\u001b[0m in \u001b[0;36msave\u001b[1;34m(file, arr, allow_pickle, fix_imports)\u001b[0m\n\u001b[0;32m    509\u001b[0m         \u001b[0marr\u001b[0m \u001b[1;33m=\u001b[0m \u001b[0mnp\u001b[0m\u001b[1;33m.\u001b[0m\u001b[0masanyarray\u001b[0m\u001b[1;33m(\u001b[0m\u001b[0marr\u001b[0m\u001b[1;33m)\u001b[0m\u001b[1;33m\u001b[0m\u001b[0m\n\u001b[0;32m    510\u001b[0m         format.write_array(fid, arr, allow_pickle=allow_pickle,\n\u001b[1;32m--> 511\u001b[1;33m                            pickle_kwargs=pickle_kwargs)\n\u001b[0m\u001b[0;32m    512\u001b[0m     \u001b[1;32mfinally\u001b[0m\u001b[1;33m:\u001b[0m\u001b[1;33m\u001b[0m\u001b[0m\n\u001b[0;32m    513\u001b[0m         \u001b[1;32mif\u001b[0m \u001b[0mown_fid\u001b[0m\u001b[1;33m:\u001b[0m\u001b[1;33m\u001b[0m\u001b[0m\n",
      "\u001b[1;32m~\\Anaconda3\\lib\\site-packages\\numpy\\lib\\format.py\u001b[0m in \u001b[0;36mwrite_array\u001b[1;34m(fp, array, version, allow_pickle, pickle_kwargs)\u001b[0m\n\u001b[0;32m    581\u001b[0m         \u001b[1;32mif\u001b[0m \u001b[0mpickle_kwargs\u001b[0m \u001b[1;32mis\u001b[0m \u001b[1;32mNone\u001b[0m\u001b[1;33m:\u001b[0m\u001b[1;33m\u001b[0m\u001b[0m\n\u001b[0;32m    582\u001b[0m             \u001b[0mpickle_kwargs\u001b[0m \u001b[1;33m=\u001b[0m \u001b[1;33m{\u001b[0m\u001b[1;33m}\u001b[0m\u001b[1;33m\u001b[0m\u001b[0m\n\u001b[1;32m--> 583\u001b[1;33m         \u001b[0mpickle\u001b[0m\u001b[1;33m.\u001b[0m\u001b[0mdump\u001b[0m\u001b[1;33m(\u001b[0m\u001b[0marray\u001b[0m\u001b[1;33m,\u001b[0m \u001b[0mfp\u001b[0m\u001b[1;33m,\u001b[0m \u001b[0mprotocol\u001b[0m\u001b[1;33m=\u001b[0m\u001b[1;36m2\u001b[0m\u001b[1;33m,\u001b[0m \u001b[1;33m**\u001b[0m\u001b[0mpickle_kwargs\u001b[0m\u001b[1;33m)\u001b[0m\u001b[1;33m\u001b[0m\u001b[0m\n\u001b[0m\u001b[0;32m    584\u001b[0m     \u001b[1;32melif\u001b[0m \u001b[0marray\u001b[0m\u001b[1;33m.\u001b[0m\u001b[0mflags\u001b[0m\u001b[1;33m.\u001b[0m\u001b[0mf_contiguous\u001b[0m \u001b[1;32mand\u001b[0m \u001b[1;32mnot\u001b[0m \u001b[0marray\u001b[0m\u001b[1;33m.\u001b[0m\u001b[0mflags\u001b[0m\u001b[1;33m.\u001b[0m\u001b[0mc_contiguous\u001b[0m\u001b[1;33m:\u001b[0m\u001b[1;33m\u001b[0m\u001b[0m\n\u001b[0;32m    585\u001b[0m         \u001b[1;32mif\u001b[0m \u001b[0misfileobj\u001b[0m\u001b[1;33m(\u001b[0m\u001b[0mfp\u001b[0m\u001b[1;33m)\u001b[0m\u001b[1;33m:\u001b[0m\u001b[1;33m\u001b[0m\u001b[0m\n",
      "\u001b[1;31mMemoryError\u001b[0m: "
     ]
    }
   ],
   "source": [
    "#np.save(fname,decod_dict[key])"
   ]
  },
  {
   "cell_type": "code",
   "execution_count": 41,
   "metadata": {},
   "outputs": [
    {
     "name": "stdout",
     "output_type": "stream",
     "text": [
      "dict_keys(['i0x_y', 'i1x_y', 'i0', 'i1', 'pop i0x_y', 'pop i1x_y', 'pop i0', 'pop i1'])\n"
     ]
    }
   ],
   "source": [
    "print(decod_dict.keys())"
   ]
  },
  {
   "cell_type": "code",
   "execution_count": 44,
   "metadata": {},
   "outputs": [],
   "source": [
    "for key in decod_dict.keys():\n",
    "    fname = \"G:\\\\My Drive\\\\MCN\\\\project\\\\ParamSweep\\\\%s_alpha%f_beta%f.p\" % (key, a,b)\n",
    "    with open(fname,\"wb\") as f:\n",
    "        pickle.dump({'val':decod_dict[key]},f)"
   ]
  },
  {
   "cell_type": "code",
   "execution_count": 45,
   "metadata": {},
   "outputs": [
    {
     "ename": "InterfaceError",
     "evalue": "Error binding parameter 1 - probably unsupported type.",
     "output_type": "error",
     "traceback": [
      "\u001b[1;31m---------------------------------------------------------------------------\u001b[0m",
      "\u001b[1;31mInterfaceError\u001b[0m                            Traceback (most recent call last)",
      "\u001b[1;32m<ipython-input-45-65ee0504e17e>\u001b[0m in \u001b[0;36m<module>\u001b[1;34m()\u001b[0m\n\u001b[0;32m      3\u001b[0m \u001b[0mcur\u001b[0m \u001b[1;33m=\u001b[0m \u001b[0mdb\u001b[0m\u001b[1;33m.\u001b[0m\u001b[0mexecute\u001b[0m\u001b[1;33m(\u001b[0m\u001b[1;34m'CREATE TABLE keyvals (key TEXT PRIMARY KEY, value BLOB)'\u001b[0m\u001b[1;33m)\u001b[0m\u001b[1;33m\u001b[0m\u001b[0m\n\u001b[0;32m      4\u001b[0m \u001b[0mdb\u001b[0m\u001b[1;33m.\u001b[0m\u001b[0mcommit\u001b[0m\u001b[1;33m(\u001b[0m\u001b[1;33m)\u001b[0m\u001b[1;33m\u001b[0m\u001b[0m\n\u001b[1;32m----> 5\u001b[1;33m \u001b[0mcur\u001b[0m\u001b[1;33m.\u001b[0m\u001b[0mexecutemany\u001b[0m\u001b[1;33m(\u001b[0m\u001b[1;34m'INSERT INTO keyvals VALUES (?, ?)'\u001b[0m \u001b[1;33m,\u001b[0m \u001b[0mdecod_dict\u001b[0m\u001b[1;33m.\u001b[0m\u001b[0mitems\u001b[0m\u001b[1;33m(\u001b[0m\u001b[1;33m)\u001b[0m\u001b[1;33m)\u001b[0m\u001b[1;33m\u001b[0m\u001b[0m\n\u001b[0m",
      "\u001b[1;31mInterfaceError\u001b[0m: Error binding parameter 1 - probably unsupported type."
     ]
    }
   ],
   "source": [
    "import sqlite3\n",
    "db = sqlite3.connect('file.sqlite')\n",
    "cur = db.execute('CREATE TABLE keyvals (key TEXT PRIMARY KEY, value BLOB)')\n",
    "db.commit()\n",
    "cur.executemany('INSERT INTO keyvals VALUES (?, ?)' , decod_dict.items())"
   ]
  },
  {
   "cell_type": "code",
   "execution_count": null,
   "metadata": {},
   "outputs": [],
   "source": []
  }
 ],
 "metadata": {
  "kernelspec": {
   "display_name": "Python 3",
   "language": "python",
   "name": "python3"
  },
  "language_info": {
   "codemirror_mode": {
    "name": "ipython",
    "version": 3
   },
   "file_extension": ".py",
   "mimetype": "text/x-python",
   "name": "python",
   "nbconvert_exporter": "python",
   "pygments_lexer": "ipython3",
   "version": "3.6.4"
  }
 },
 "nbformat": 4,
 "nbformat_minor": 2
}
